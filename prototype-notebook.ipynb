{
 "cells": [
  {
   "cell_type": "code",
   "execution_count": 24,
   "metadata": {},
   "outputs": [],
   "source": [
    "q1answers = {\n",
    "    \"Kristen\",\n",
    "    \"Niveda\",\n",
    "    \"Isabel\",\n",
    "    \"Crystal\",\n",
    "    \"Ashley\"\n",
    "}"
   ]
  },
  {
   "cell_type": "code",
   "execution_count": 25,
   "metadata": {},
   "outputs": [
    {
     "name": "stdout",
     "output_type": "stream",
     "text": [
      "What is your name?\n",
      "Type your answer here:Bob\n",
      "Sorry, try again!\n"
     ]
    }
   ],
   "source": [
    "print(\"What is your name?\")\n",
    "answer = input(\"Type your answer here:\")\n",
    "if answer in q1answers:\n",
    "    print(\"Correct!\")\n",
    "else:\n",
    "    print (\"Sorry, try again!\")"
   ]
  },
  {
   "cell_type": "code",
   "execution_count": 4,
   "metadata": {},
   "outputs": [],
   "source": []
  },
  {
   "cell_type": "code",
   "execution_count": null,
   "metadata": {},
   "outputs": [],
   "source": []
  }
 ],
 "metadata": {
  "kernelspec": {
   "display_name": "Python 3",
   "language": "python",
   "name": "python3"
  },
  "language_info": {
   "codemirror_mode": {
    "name": "ipython",
    "version": 3
   },
   "file_extension": ".py",
   "mimetype": "text/x-python",
   "name": "python",
   "nbconvert_exporter": "python",
   "pygments_lexer": "ipython3",
   "version": "3.8.3"
  }
 },
 "nbformat": 4,
 "nbformat_minor": 4
}
